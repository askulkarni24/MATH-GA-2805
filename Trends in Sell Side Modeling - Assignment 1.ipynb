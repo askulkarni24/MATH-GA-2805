{
 "cells": [
  {
   "cell_type": "markdown",
   "metadata": {},
   "source": [
    "# Homework 1\n",
    "\n",
    "### MATH-GA 2805 Trends in Sell-Side Modelling\n",
    "**Lavaneesh Sharma (lss8875)** \\\n",
    "**Abhishek Kulkarni (ask 9103)**"
   ]
  },
  {
   "cell_type": "code",
   "execution_count": 1,
   "metadata": {},
   "outputs": [],
   "source": [
    "import numpy as np\n",
    "import pandas as pd\n",
    "import math\n",
    "import matplotlib.pyplot as plt\n",
    "%matplotlib inline\n",
    "import scipy\n",
    "from scipy import optimize\n",
    "from scipy.optimize import minimize\n",
    "from scipy.stats import norm"
   ]
  },
  {
   "cell_type": "markdown",
   "metadata": {},
   "source": [
    "# Problem 1 \n",
    "## Question 1\n",
    "\n",
    "Consider a world with only 3 ratings: Good ($G$), Bad ($B$), and Default ($D$).\n",
    "Credit rating migration is assumed described by a time-homogenous Markov\n",
    "chain with transition matrix $M$. Over a period of $0.25$ years, the risk-neutral\n",
    "transition matrix has been estimated to be\n",
    "\n",
    "$$ M(0.25) =  \\begin{bmatrix} \n",
    "a & b & c \\\\ \n",
    "d & e & f \\\\ \n",
    "g & h & i \\\\\n",
    "\\end{bmatrix} \n",
    "$$\n",
    "\n",
    "for certain positive constants $a, b, ..., i$. Let us consider the probability of defaulting over a period of $0.5$ years, starting in either state $G$ or state $B$. Write\n",
    "these two probabilities as a function of only $b, c, e, and f$."
   ]
  },
  {
   "cell_type": "markdown",
   "metadata": {},
   "source": [
    "Multiplying the two matrices we get $$ M(0.5) = \n",
    "\\begin{equation*}\n",
    "  \\begin{bmatrix}\n",
    "a & b & c \\\\ \n",
    "d & e & f \\\\ \n",
    "0 & 0 & 1 \\\\\n",
    "  \\end{bmatrix}\n",
    "  \\begin{matrix}\n",
    "      \\begin{bmatrix}\n",
    "a & b & c \\\\ \n",
    "d & e & f \\\\ \n",
    "0 & 0 & 1 \\\\\n",
    "   \\end{bmatrix}\n",
    "\\end{matrix}\n",
    "\\end{equation*}\n",
    "$$"
   ]
  },
  {
   "cell_type": "markdown",
   "metadata": {},
   "source": [
    "$$ = \\begin{bmatrix}\n",
    "{a^2} + bd & ab+be & ac+bf+c \\\\ \n",
    "ad+de & bd+{e^2} & dc+ef+f \\\\ \n",
    "0 & 0 & 1 \\\\\n",
    " \\end{bmatrix}\n",
    " $$"
   ]
  },
  {
   "cell_type": "markdown",
   "metadata": {},
   "source": [
    "From the theory of transition matrices, in matrix $M(0.25)$ we know that"
   ]
  },
  {
   "cell_type": "markdown",
   "metadata": {},
   "source": [
    "<center> $a+b+c=1$ </center>\n",
    "<center> $\\therefore a = 1 -(b+c)$ </center>"
   ]
  },
  {
   "cell_type": "markdown",
   "metadata": {},
   "source": [
    "<center> $d+e+f=1$ </center>\n",
    "<center> $\\therefore d = 1 -(e+f)$ </center>"
   ]
  },
  {
   "cell_type": "markdown",
   "metadata": {},
   "source": [
    "<center> $\\therefore P(X_{f}=D | X_{i}=G) = c(2-c) + b(f-c)$ </center>"
   ]
  },
  {
   "cell_type": "markdown",
   "metadata": {},
   "source": [
    "<center> $\\therefore P(X_{f}=D | X_{i}=B) = c(1-f)-e(c-f)+f$ </center>"
   ]
  },
  {
   "cell_type": "markdown",
   "metadata": {},
   "source": [
    "*******"
   ]
  },
  {
   "cell_type": "markdown",
   "metadata": {},
   "source": [
    "## Question 2\n",
    "Let $ c = 0.25\\%, b = 0.75\\%, f = 3.50\\%, e = 94.75\\% $. \n",
    "\n",
    "Compute the $0.5$-year default probability when starting in state $G$, using the result in question 1\n",
    "above. \n",
    "\n",
    "Find the same result when starting in state $B$."
   ]
  },
  {
   "cell_type": "code",
   "execution_count": 2,
   "metadata": {},
   "outputs": [],
   "source": [
    "c = 0.0025\n",
    "b = 0.0075\n",
    "f = 0.035\n",
    "e = 0.9475"
   ]
  },
  {
   "cell_type": "markdown",
   "metadata": {},
   "source": [
    "Using the results obtained above, we get"
   ]
  },
  {
   "cell_type": "code",
   "execution_count": 3,
   "metadata": {},
   "outputs": [
    {
     "name": "stdout",
     "output_type": "stream",
     "text": [
      "Probability of default starting in state G = 0.0052375\n"
     ]
    }
   ],
   "source": [
    "Prob_G_to_D = c*(2-c) + b*(f-c)\n",
    "print(f\"Probability of default starting in state G = {Prob_G_to_D}\")"
   ]
  },
  {
   "cell_type": "code",
   "execution_count": 4,
   "metadata": {},
   "outputs": [
    {
     "name": "stdout",
     "output_type": "stream",
     "text": [
      "Probability of default starting in state B = 0.06820625\n"
     ]
    }
   ],
   "source": [
    "Prob_B_to_D = c*(1-f) - e*(c-f) + f\n",
    "print(f\"Probability of default starting in state B = {Prob_B_to_D}\")"
   ]
  },
  {
   "cell_type": "markdown",
   "metadata": {},
   "source": [
    "We can also verify our result by raising the matrix $M$ to power $2$"
   ]
  },
  {
   "cell_type": "code",
   "execution_count": 5,
   "metadata": {},
   "outputs": [],
   "source": [
    "mat = np.array([[1-(b+c), b, c],[1-(e+f), e, f],[0,0,1]])"
   ]
  },
  {
   "cell_type": "markdown",
   "metadata": {},
   "source": [
    "We define a function **Markov** that takes in a matrix and an integer (no of times it is to be raised to) to calculate higher powers of any matrix."
   ]
  },
  {
   "cell_type": "code",
   "execution_count": 6,
   "metadata": {},
   "outputs": [],
   "source": [
    "def Markov(n,matrix):\n",
    "    X = matrix\n",
    "    for i in range(n):\n",
    "        X = np.matmul(X,matrix)\n",
    "    return X"
   ]
  },
  {
   "cell_type": "code",
   "execution_count": 7,
   "metadata": {},
   "outputs": [
    {
     "name": "stdout",
     "output_type": "stream",
     "text": [
      "Default Probability when starting in state G 0.0052375\n",
      "Default Probability when starting in state B 0.06820625\n"
     ]
    }
   ],
   "source": [
    "print(\"Default Probability when starting in state G\", np.round(Markov(1,mat)[0][-1],7))\n",
    "print(\"Default Probability when starting in state B\", np.round(Markov(1,mat)[1][-1],8))"
   ]
  },
  {
   "cell_type": "markdown",
   "metadata": {},
   "source": [
    "**These are the same values we get when solving for the probabilities using the expressions derived earlier!**"
   ]
  },
  {
   "cell_type": "markdown",
   "metadata": {},
   "source": [
    "*****"
   ]
  },
  {
   "cell_type": "markdown",
   "metadata": {},
   "source": [
    "## Question 3 \n",
    " Consider now a $6$-year risky coupon bond paying a promised coupon of $5\\%$\n",
    "annually until maturity. \n",
    "\n",
    "The underlying firm’s credit quality can be assumed to be described by the transition matrix in question 1, with the parameters from question 2. \n",
    "\n",
    "If the underlying firm defaults, the bond vanishes with no recovery at the time of default; should the bond survive until maturity a notional of $\\$100$ will be paid on the bond. Compute the price of this bond. \n",
    "\n",
    "Please consider all three cases of the initial state of the firm $(G, B, \\& D)$. The risk-free\n",
    "(continuously compounded) interest rate is constant at $2\\%$."
   ]
  },
  {
   "cell_type": "code",
   "execution_count": 8,
   "metadata": {},
   "outputs": [],
   "source": [
    "# Bond Price\n",
    "\n",
    "def PVCF(rfr, coupon, n, state):\n",
    "    \n",
    "    PV_coupon = 0\n",
    "    \n",
    "    for i in range(n-1):\n",
    "        \n",
    "        if state == 'Good':\n",
    "            PV_coupon += coupon*np.exp(-rfr*(i))*(1-Markov(i,Markov(3,mat))[0][2])\n",
    "            #print(PV,\"*****\",1-Markov(i,Markov(3,mat))[0][2])\n",
    "            Final_value = (100+coupon)*np.exp(-rfr*n)*(1-Markov(n-1,Markov(3,mat))[0][2])\n",
    "        \n",
    "        elif state == 'Bad':\n",
    "            PV_coupon += coupon*np.exp(-rfr*(i))*(1-Markov(i,Markov(3,mat))[1][2])\n",
    "            #print(PV,\"*****\",1-Markov(i,Markov(3,mat))[1][2])\n",
    "            Final_value = (100+coupon)*np.exp(-rfr*n)*(1-Markov(n-1,Markov(3,mat))[1][2])\n",
    "    \n",
    "    return PV_coupon + Final_value"
   ]
  },
  {
   "cell_type": "code",
   "execution_count": 9,
   "metadata": {},
   "outputs": [
    {
     "name": "stdout",
     "output_type": "stream",
     "text": [
      "Bond Value Starting in Good State =  106.6794612047598\n",
      "Bond Value Starting in Bad State =  63.61863630799728\n"
     ]
    }
   ],
   "source": [
    "print(\"Bond Value Starting in Good State = \", PVCF(0.02,5,6,\"Good\"))\n",
    "print(\"Bond Value Starting in Bad State = \", PVCF(0.02,5,6,\"Bad\"))"
   ]
  },
  {
   "cell_type": "markdown",
   "metadata": {},
   "source": [
    "*****"
   ]
  },
  {
   "cell_type": "markdown",
   "metadata": {},
   "source": [
    "## Question 4\n",
    "In the setting of Q3, let $X(0, T)$ be the survival probability as a function of the\n",
    "horizon $T$\n",
    "\n",
    "Define a term hazard rate as $X(0, T) = e^{\\frac{-\\hat{\\lambda}(T)}{T}}$ . Graph $\\lambda(T)$ for the initial states $G$ and $B$. \n",
    "\n",
    "Explain (in words) why the two curves have slopes of opposite sign."
   ]
  },
  {
   "cell_type": "code",
   "execution_count": 10,
   "metadata": {},
   "outputs": [],
   "source": [
    "# Hazard Rate Function\n",
    "\n",
    "def Lambda(n, state):\n",
    "    \n",
    "    res = []\n",
    "    \n",
    "    if state == \"Good\":\n",
    "        for i in range(n):\n",
    "            res.append(-np.log((1-Markov(i,Markov(3,mat))[0][2]))/(i+1))\n",
    "    \n",
    "    if state == \"Bad\":       \n",
    "        for i in range(n):\n",
    "            res.append(-np.log((1-Markov(i,Markov(3,mat))[1][2]))/(i+1))\n",
    "    \n",
    "    return res"
   ]
  },
  {
   "cell_type": "code",
   "execution_count": 11,
   "metadata": {},
   "outputs": [
    {
     "data": {
      "text/plain": [
       "Text(0, 0.5, 'Hazard Rate λ')"
      ]
     },
     "execution_count": 11,
     "metadata": {},
     "output_type": "execute_result"
    },
    {
     "data": {
      "image/png": "[encoded data removed]",
      "text/plain": [
       "<Figure size 640x480 with 1 Axes>"
      ]
     },
     "metadata": {},
     "output_type": "display_data"
    }
   ],
   "source": [
    "plt.plot(Lambda(6,\"Good\"),\"go--\",label = \"Good State\")\n",
    "plt.plot(Lambda(6,\"Bad\"),\"bo--\",label = \"Bad State\")\n",
    "plt.legend()\n",
    "plt.title(\"Hazard Rates for Initial States G & B\")\n",
    "plt.xlabel('Time (T)')\n",
    "plt.ylabel('Hazard Rate \\u03BB')"
   ]
  },
  {
   "cell_type": "markdown",
   "metadata": {},
   "source": [
    "#### If the firm starts in a bad state, it has chance/likelihood of improving upon its current state of (B), hence lambda decreases with time. If the firm starts in a Good State (G) it is essentially the best state the firm can start at and there is little chance for firm to go better than (G). "
   ]
  },
  {
   "cell_type": "markdown",
   "metadata": {},
   "source": [
    "*******"
   ]
  },
  {
   "cell_type": "markdown",
   "metadata": {},
   "source": [
    "## Question 5\n",
    "We now extend our transition matrix to include a new state: Medium $(M)$. We consider the transition matrix:\n",
    "\n",
    " States | G | M | B | D |\n",
    "  --- | --- | --- | --- | --- |\n",
    "**G** | 97% | 1.5% | 1% | 0.5% |\n",
    "**M** | 1% | 96% | 1.75% | 1.25% |\n",
    "**B** | 1% | 1.6% | 93.5% | 3.9% |\n",
    "**D** | 0% | 0% | 0% | 100% |\n",
    "\n",
    "Assume now that our reference firm starts in state $G$. We enter into a security where we will receive $\\$1$ at time $T = 2.5$, if the firm does not default before then. \n",
    "\n",
    "Let the interest rate be constant at $2\\%$, as before.\n",
    "\n",
    "What is the price of this security?"
   ]
  },
  {
   "cell_type": "code",
   "execution_count": 12,
   "metadata": {},
   "outputs": [],
   "source": [
    "mat2 = [[.97,0.015,0.01,0.005],[0.01,0.96,0.0175,0.0125],[0.01,0.016,.9350,0.039],[0,0,0,1]]"
   ]
  },
  {
   "cell_type": "code",
   "execution_count": 13,
   "metadata": {},
   "outputs": [
    {
     "name": "stdout",
     "output_type": "stream",
     "text": [
      "Price of the security = 0.8886960113811696\n"
     ]
    }
   ],
   "source": [
    "conditional_PVCF = 1*(1-Markov(9,mat2)[0][-1])*np.exp(-0.02*2.5)\n",
    "print(f\"Price of the security = {conditional_PVCF}\")"
   ]
  },
  {
   "cell_type": "markdown",
   "metadata": {},
   "source": [
    "******"
   ]
  },
  {
   "cell_type": "markdown",
   "metadata": {},
   "source": [
    "## Question 6\n",
    "\n",
    "We now add a downgrade protection clause to the security defined in question 5 above. Specifically, if the firm reaches state $B$, we will be given a $\\$1$ risk-free discount bond maturing at time $T = 2.5$, and the trade will terminate. We assume that the downgrade clause is checked every $0.25$ years. \n",
    "\n",
    "What is now the price of the security in question 5?\n",
    "\n",
    "(Hint: consider cleverly modifying the transition matrix to introduce an absorbing state somewhere). \n",
    "\n",
    "Compare to the result in question 5."
   ]
  },
  {
   "cell_type": "code",
   "execution_count": 14,
   "metadata": {},
   "outputs": [],
   "source": [
    "mat3 = [[.97,0.015,0.01,0.005],[0.01,0.96,0.0175,0.0125],[0,0,0,0],[0,0,0,1]]"
   ]
  },
  {
   "cell_type": "code",
   "execution_count": 15,
   "metadata": {},
   "outputs": [],
   "source": [
    "def DowngradeProtection(n,mat,Payoff):\n",
    "    PV = 0\n",
    "    for i in range(n):\n",
    "        PV += Payoff*Markov(i,mat)[0][2]\n",
    "        \n",
    "    return PV + (1-Markov(n-1,mat3)[0][-1])*Payoff*np.exp(-0.02*2.5)"
   ]
  },
  {
   "cell_type": "code",
   "execution_count": 16,
   "metadata": {},
   "outputs": [
    {
     "name": "stdout",
     "output_type": "stream",
     "text": [
      "Price of the security = 1.0003492932749507\n"
     ]
    }
   ],
   "source": [
    "print(f\"Price of the security = {DowngradeProtection(10,mat3,1)}\")"
   ]
  },
  {
   "cell_type": "code",
   "execution_count": 17,
   "metadata": {},
   "outputs": [
    {
     "name": "stdout",
     "output_type": "stream",
     "text": [
      "Price of the security is greater than its price in Q5 by  0.1117\n"
     ]
    }
   ],
   "source": [
    "print(\"Price of the security is greater than its price in Q5 by \",  \n",
    "      np.round(DowngradeProtection(10,mat3,1)-conditional_PVCF, 4))"
   ]
  },
  {
   "cell_type": "markdown",
   "metadata": {},
   "source": [
    "********"
   ]
  },
  {
   "cell_type": "markdown",
   "metadata": {},
   "source": [
    "# Problem 2"
   ]
  },
  {
   "cell_type": "markdown",
   "metadata": {},
   "source": [
    "## Question 1\n",
    "Consider a standard Merton model for a firm with equity $E(0) = \\$10 $ and face value of debt $ D_{F} = \\$10 $. \n",
    "Let the risk-free continuously compounded interest rate be $r = 2\\%$, and assume that the asset volatility ($\\sigma_{A}$) has been estimated at $30\\%$.\n",
    "\n",
    "On a $5-$year horizon, what is the time $0$ fair price of - \\\n",
    "a) the firm’s assets and \\\n",
    "b) the firm’s debt? \\\n",
    "c) what is the survival probability of the firm?"
   ]
  },
  {
   "cell_type": "code",
   "execution_count": 18,
   "metadata": {},
   "outputs": [],
   "source": [
    "# Inputs\n",
    "\n",
    "E0 = 10\n",
    "Df = 10\n",
    "r = 0.02\n",
    "sigA = 0.3\n",
    "T = 5"
   ]
  },
  {
   "cell_type": "code",
   "execution_count": 19,
   "metadata": {},
   "outputs": [],
   "source": [
    "def asset_val(a):\n",
    "    \n",
    "    d_plus = (np.log(a/Df) + (r + 0.5*sigA**2)*T)/(sigA*np.sqrt(T))\n",
    "    d_minus = (np.log(a/Df) + (r - 0.5*sigA**2)*T)/(sigA*np.sqrt(T))\n",
    "    \n",
    "    return a*norm.cdf(d_plus) - Df*np.exp(-1*r*T)*norm.cdf(d_minus) - E0"
   ]
  },
  {
   "cell_type": "code",
   "execution_count": 20,
   "metadata": {},
   "outputs": [
    {
     "name": "stdout",
     "output_type": "stream",
     "text": [
      "Time 0 fair price of firm's assets A0 = 18.42882658967022\n"
     ]
    }
   ],
   "source": [
    "A0 = optimize.newton(asset_val, 1)\n",
    "print(f\"Time 0 fair price of firm's assets A0 = {A0}\")"
   ]
  },
  {
   "cell_type": "code",
   "execution_count": 21,
   "metadata": {},
   "outputs": [
    {
     "name": "stdout",
     "output_type": "stream",
     "text": [
      "Time 0 fair price of firm's debt D0 = 8.42882658967022\n"
     ]
    }
   ],
   "source": [
    "D0 = A0 - E0\n",
    "print(f\"Time 0 fair price of firm's debt D0 = {D0}\")"
   ]
  },
  {
   "cell_type": "code",
   "execution_count": 22,
   "metadata": {},
   "outputs": [],
   "source": [
    "#Survival Probability\n",
    "\n",
    "def survival_prob1(A,D,sig,r,T):\n",
    "    \n",
    "    return 1 - norm.cdf(-(np.log(A/D) + (r - 0.5*sig**2)*T)/(sig*np.sqrt(T)))"
   ]
  },
  {
   "cell_type": "code",
   "execution_count": 23,
   "metadata": {},
   "outputs": [
    {
     "name": "stdout",
     "output_type": "stream",
     "text": [
      "Survival probability of the firm = 0.7657676850600381\n"
     ]
    }
   ],
   "source": [
    "survival_probability1 = survival_prob1(A0,Df,sigA,r,T)\n",
    "print(f\"Survival probability of the firm = {survival_probability1}\")"
   ]
  },
  {
   "cell_type": "markdown",
   "metadata": {},
   "source": [
    "*****"
   ]
  },
  {
   "cell_type": "markdown",
   "metadata": {},
   "source": [
    "## Question 2"
   ]
  },
  {
   "cell_type": "markdown",
   "metadata": {},
   "source": [
    "Now consider an extended (continuous-barrier) Merton model, where the assets have drift $\\mu = r$, and parameters (including the initial asset value) are otherwise as in question 1. \n",
    "\n",
    "What is the $5-$year survival probability in this model, assuming that the default barrier $H$ is set equal to $D_{F}$? \n",
    "\n",
    "Is this higher or lower than that in question 1? Explain."
   ]
  },
  {
   "cell_type": "code",
   "execution_count": 24,
   "metadata": {},
   "outputs": [],
   "source": [
    "def survival_prob2(t, H, A):\n",
    "    \n",
    "    a = r - 0.5*(sigA**2)\n",
    "    h = np.log(H/A)\n",
    "    \n",
    "    return 1 - (norm.cdf((h-a*t)/(sigA*np.sqrt(t))) +  \n",
    "                np.exp(2*a*h/(sigA**2)) * norm.cdf((a*t + h)/(sigA * np.sqrt(t))))"
   ]
  },
  {
   "cell_type": "code",
   "execution_count": 25,
   "metadata": {},
   "outputs": [
    {
     "name": "stdout",
     "output_type": "stream",
     "text": [
      "Survival probability of the firm = 0.5745171658288526\n"
     ]
    }
   ],
   "source": [
    "survival_probability2 = survival_prob2(T, Df, A0)\n",
    "print(f\"Survival probability of the firm = {survival_probability2}\")"
   ]
  },
  {
   "cell_type": "markdown",
   "metadata": {},
   "source": [
    "**As seen above, the survival probability of the firm decreases when we use the continuous barrier extension of the Merton model. This is essentially a consequence of the fact that defaults generated by diffusion processes are “predictable” with slowly deteriorating firm assets, rather than “surprising”.**"
   ]
  },
  {
   "cell_type": "markdown",
   "metadata": {},
   "source": [
    "*****"
   ]
  },
  {
   "cell_type": "markdown",
   "metadata": {},
   "source": [
    "## Question 3"
   ]
  },
  {
   "cell_type": "markdown",
   "metadata": {},
   "source": [
    "Using the model in question $2$ compute survival probabilities on a grid of maturities $\\{0.1, 0.25, 0.5, 1, 2, 3, 5, 7, 10\\}$. \n",
    "\n",
    "If $X(0,T)$ is the survival probability to time $T$, define (as we did earlier) a term-hazard rate function $\\hat{\\lambda}(T)$ as $X(0,T) = e^{−\\hat{\\lambda}(T).T}$. From your results, show a graph of the function $\\hat{\\lambda}(T)$. \n",
    "\n",
    "Can you formally establish the limit $\\lim_{T \\to 0} \\hat{\\lambda}(T)$ ?"
   ]
  },
  {
   "cell_type": "code",
   "execution_count": 26,
   "metadata": {},
   "outputs": [
    {
     "data": {
      "text/plain": [
       "[0.9999999998621385,\n",
       " 0.9999456382534775,\n",
       " 0.9953215061283593,\n",
       " 0.9508609873811963,\n",
       " 0.8234952740165817,\n",
       " 0.7180036237769543,\n",
       " 0.5745171658288526,\n",
       " 0.48274602708523107,\n",
       " 0.3928038429188093]"
      ]
     },
     "execution_count": 26,
     "metadata": {},
     "output_type": "execute_result"
    }
   ],
   "source": [
    "maturity_grid = [0.1, 0.25, 0.5, 1, 2, 3, 5, 7, 10]\n",
    "\n",
    "survival_prob = []\n",
    "\n",
    "for i in maturity_grid:\n",
    "    survival_prob.append(survival_prob2(i, H=10, A=A0))\n",
    "\n",
    "survival_prob"
   ]
  },
  {
   "cell_type": "code",
   "execution_count": 27,
   "metadata": {},
   "outputs": [
    {
     "data": {
      "text/plain": [
       "Text(0, 0.5, 'Survival Probability')"
      ]
     },
     "execution_count": 27,
     "metadata": {},
     "output_type": "execute_result"
    },
    {
     "data": {
      "image/png": "[encoded data removed]",
      "text/plain": [
       "<Figure size 640x480 with 1 Axes>"
      ]
     },
     "metadata": {},
     "output_type": "display_data"
    }
   ],
   "source": [
    "plt.plot(maturity_grid, survival_prob, 'bo--')\n",
    "plt.title(\"Survival Probability Curve\")\n",
    "plt.xlabel('Maturity Grid')\n",
    "plt.ylabel('Survival Probability')"
   ]
  },
  {
   "cell_type": "code",
   "execution_count": 28,
   "metadata": {},
   "outputs": [],
   "source": [
    "def hazard_rate_func(mg, sp):\n",
    "    return (-np.log(sp))/mg"
   ]
  },
  {
   "cell_type": "markdown",
   "metadata": {},
   "source": [
    "<center>Hazard Rate ($\\hat{\\lambda}(T)$) =  $-\\frac{\\ln(X(0,T))}{T}$ </center>"
   ]
  },
  {
   "cell_type": "code",
   "execution_count": 29,
   "metadata": {},
   "outputs": [
    {
     "data": {
      "text/plain": [
       "[1.3786150000312186e-09,\n",
       " 0.0002174528967032314,\n",
       " 0.009378944558170904,\n",
       " 0.05038740232517247,\n",
       " 0.09709873414001051,\n",
       " 0.11042688763451246,\n",
       " 0.11084506050841167,\n",
       " 0.1040377982090717,\n",
       " 0.09344449191514927]"
      ]
     },
     "execution_count": 29,
     "metadata": {},
     "output_type": "execute_result"
    }
   ],
   "source": [
    "lambdas = []\n",
    "\n",
    "for i in range(len(maturity_grid)):\n",
    "    lambdas.append(hazard_rate_func(maturity_grid[i], survival_prob[i]))\n",
    "\n",
    "lambdas"
   ]
  },
  {
   "cell_type": "code",
   "execution_count": 30,
   "metadata": {},
   "outputs": [
    {
     "data": {
      "text/plain": [
       "Text(0.5, 1.0, 'Lambda as a function of T')"
      ]
     },
     "execution_count": 30,
     "metadata": {},
     "output_type": "execute_result"
    },
    {
     "data": {
      "image/png": "[encoded data removed]",
      "text/plain": [
       "<Figure size 640x480 with 1 Axes>"
      ]
     },
     "metadata": {},
     "output_type": "display_data"
    }
   ],
   "source": [
    "plt.plot(maturity_grid, lambdas, 'go--')\n",
    "plt.xlabel('Time (Maturities)')\n",
    "plt.ylabel('Lambda')\n",
    "plt.title('Lambda as a function of T')"
   ]
  },
  {
   "cell_type": "markdown",
   "metadata": {},
   "source": [
    "**As visible from the graph above, the hazard rate function $\\hat{\\lambda}(T)$ increases sharply for small maturities and then falls off to its limiting value, which for our observation period of maturity 10 yrs is close to 0.07** \n",
    "\n",
    "**The formal limit of the hazard rate function is derived below,**"
   ]
  },
  {
   "cell_type": "markdown",
   "metadata": {},
   "source": [
    "We know that, \n",
    "\n",
    "<center> $\\hat{\\lambda}(T) = -\\frac{\\ln(X(0,T))}{T}$ </center> \n",
    "\n",
    "where, \n",
    "\n",
    "$$X(0,T) = 1 - P(\\tau < T)$$ "
   ]
  },
  {
   "cell_type": "markdown",
   "metadata": {},
   "source": [
    "$$ \\therefore X(0,T) = 1 \\; - \\; \\phi \\left( \\frac{h-at}{\\sigma_{A}\\sqrt{T}} \\right) \\; - \\; e^{\\frac{2ah}{\\sigma_{A}^{2}}} \\; \\phi \\left( \\frac{h+at}{\\sigma_{A}\\sqrt{T}} \\right)$$"
   ]
  },
  {
   "cell_type": "markdown",
   "metadata": {},
   "source": [
    "Applying limits,\n",
    "\n",
    "$$\\lim_{T \\to 0} X(0,T) = \\lim_{T \\to 0} \\left[ 1 \\; - \\; \\phi \\left( \\frac{h-at}{\\sigma_{A}\\sqrt{T}} \\right) \\; - \\; e^{\\frac{2ah}{\\sigma_{A}^{2}}} \\; \\phi \\left( \\frac{h+at}{\\sigma_{A}\\sqrt{T}} \\right) \\right]$$"
   ]
  },
  {
   "cell_type": "markdown",
   "metadata": {},
   "source": [
    "<center> As $T \\to 0$, </center>"
   ]
  },
  {
   "cell_type": "markdown",
   "metadata": {},
   "source": [
    "<center>$\\phi \\left( \\frac{h-at}{\\sigma_{A}\\sqrt{T}} \\right) \\to 0$</center>"
   ]
  },
  {
   "cell_type": "markdown",
   "metadata": {},
   "source": [
    "<center> $\\& \\; \\; \\phi \\left( \\frac{h+at}{\\sigma_{A}\\sqrt{T}} \\right) \\to 0 $</center>"
   ]
  },
  {
   "cell_type": "markdown",
   "metadata": {},
   "source": [
    "$$\\therefore \\lim_{T \\to 0} X(0,T) = 1$$"
   ]
  },
  {
   "cell_type": "markdown",
   "metadata": {},
   "source": [
    "$$\\therefore \\lim_{T \\to 0} \\hat{\\lambda}(T) = \\lim_{T \\to 0} \\frac{\\ln(1)}{T} = \\frac{0}{T} = 0$$"
   ]
  },
  {
   "cell_type": "markdown",
   "metadata": {},
   "source": [
    "$$\\therefore \\lim_{T \\to 0} \\hat{\\lambda}(T) = 0$$"
   ]
  }
 ],
 "metadata": {
  "kernelspec": {
   "display_name": "Python 3 (ipykernel)",
   "language": "python",
   "name": "python3"
  },
  "language_info": {
   "codemirror_mode": {
    "name": "ipython",
    "version": 3
   },
   "file_extension": ".py",
   "mimetype": "text/x-python",
   "name": "python",
   "nbconvert_exporter": "python",
   "pygments_lexer": "ipython3",
   "version": "3.8.8"
  }
 },
 "nbformat": 4,
 "nbformat_minor": 2
}
